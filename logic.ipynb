{
 "cells": [
  {
   "cell_type": "code",
   "execution_count": 61,
   "metadata": {},
   "outputs": [],
   "source": [
    "import requests\n",
    "import pandas as pd\n",
    "import datetime\n",
    "import quandl\n",
    "from bokeh.plotting import figure, show\n",
    "from bokeh.embed import components"
   ]
  },
  {
   "cell_type": "code",
   "execution_count": 62,
   "metadata": {},
   "outputs": [],
   "source": [
    "def getData(year,ticker):\n",
    "    startDate='%d-01-01' % year\n",
    "    endDate='%d-12-30' % year\n",
    "    ticker_url=\"WIKI/\"+ticker\n",
    "    data = quandl.get(ticker_url, start_date=startDate, end_date=endDate, collapse='daily', api_key=\"CG2953NKQSkyP-g1Guwv\")\n",
    "    return data"
   ]
  },
  {
   "cell_type": "code",
   "execution_count": 63,
   "metadata": {},
   "outputs": [],
   "source": [
    "def makePlot(df, ticker, year):\n",
    "    plot = figure(x_axis_type=\"datetime\", title=\"Quandl WIKI Stock Data - %d\" %year)\n",
    "    plot.grid.grid_line_alpha=2.0\n",
    "    plot.xaxis.axis_label = 'Date'\n",
    "    plot.yaxis.axis_label = 'Price (USD)'\n",
    "    \n",
    "    plot.line(df.index, df['Open'], color='#fc9003', legend='%s: %s' %(ticker,'Open'))\n",
    "    plot.line(df.index, df['Close'], color='#fc0303', legend='%s: %s' %(ticker,'Close'))\n",
    "    plot.line(df.index, df['Adj. Open'], color='#03fc3d', legend='%s: %s' %(ticker,'Adjusted Open'))\n",
    "    plot.line(df.index, df['Adj. Close'], color='#0318fc', legend='%s: %s' %(ticker,'Adjusted Close'))\n",
    "    show(plot)\n",
    "    script, div = components(plot)\n",
    "    return script, div"
   ]
  },
  {
   "cell_type": "code",
   "execution_count": 64,
   "metadata": {},
   "outputs": [],
   "source": [
    "df=getData(2017, 'AAPL')"
   ]
  },
  {
   "cell_type": "code",
   "execution_count": 65,
   "metadata": {},
   "outputs": [
    {
     "data": {
      "text/html": [
       "<div>\n",
       "<style scoped>\n",
       "    .dataframe tbody tr th:only-of-type {\n",
       "        vertical-align: middle;\n",
       "    }\n",
       "\n",
       "    .dataframe tbody tr th {\n",
       "        vertical-align: top;\n",
       "    }\n",
       "\n",
       "    .dataframe thead th {\n",
       "        text-align: right;\n",
       "    }\n",
       "</style>\n",
       "<table border=\"1\" class=\"dataframe\">\n",
       "  <thead>\n",
       "    <tr style=\"text-align: right;\">\n",
       "      <th></th>\n",
       "      <th>Open</th>\n",
       "      <th>High</th>\n",
       "      <th>Low</th>\n",
       "      <th>Close</th>\n",
       "      <th>Volume</th>\n",
       "      <th>Ex-Dividend</th>\n",
       "      <th>Split Ratio</th>\n",
       "      <th>Adj. Open</th>\n",
       "      <th>Adj. High</th>\n",
       "      <th>Adj. Low</th>\n",
       "      <th>Adj. Close</th>\n",
       "      <th>Adj. Volume</th>\n",
       "    </tr>\n",
       "    <tr>\n",
       "      <th>Date</th>\n",
       "      <th></th>\n",
       "      <th></th>\n",
       "      <th></th>\n",
       "      <th></th>\n",
       "      <th></th>\n",
       "      <th></th>\n",
       "      <th></th>\n",
       "      <th></th>\n",
       "      <th></th>\n",
       "      <th></th>\n",
       "      <th></th>\n",
       "      <th></th>\n",
       "    </tr>\n",
       "  </thead>\n",
       "  <tbody>\n",
       "    <tr>\n",
       "      <th>2017-01-03</th>\n",
       "      <td>115.80</td>\n",
       "      <td>116.3300</td>\n",
       "      <td>114.76</td>\n",
       "      <td>116.15</td>\n",
       "      <td>28781865.0</td>\n",
       "      <td>0.0</td>\n",
       "      <td>1.0</td>\n",
       "      <td>114.369701</td>\n",
       "      <td>114.893155</td>\n",
       "      <td>113.342546</td>\n",
       "      <td>114.715378</td>\n",
       "      <td>28781865.0</td>\n",
       "    </tr>\n",
       "    <tr>\n",
       "      <th>2017-01-04</th>\n",
       "      <td>115.85</td>\n",
       "      <td>116.5100</td>\n",
       "      <td>115.75</td>\n",
       "      <td>116.02</td>\n",
       "      <td>21118116.0</td>\n",
       "      <td>0.0</td>\n",
       "      <td>1.0</td>\n",
       "      <td>114.419083</td>\n",
       "      <td>115.070931</td>\n",
       "      <td>114.320318</td>\n",
       "      <td>114.586983</td>\n",
       "      <td>21118116.0</td>\n",
       "    </tr>\n",
       "    <tr>\n",
       "      <th>2017-01-05</th>\n",
       "      <td>115.92</td>\n",
       "      <td>116.8642</td>\n",
       "      <td>115.81</td>\n",
       "      <td>116.61</td>\n",
       "      <td>22193587.0</td>\n",
       "      <td>0.0</td>\n",
       "      <td>1.0</td>\n",
       "      <td>114.488219</td>\n",
       "      <td>115.420756</td>\n",
       "      <td>114.379577</td>\n",
       "      <td>115.169696</td>\n",
       "      <td>22193587.0</td>\n",
       "    </tr>\n",
       "    <tr>\n",
       "      <th>2017-01-06</th>\n",
       "      <td>116.78</td>\n",
       "      <td>118.1600</td>\n",
       "      <td>116.47</td>\n",
       "      <td>117.91</td>\n",
       "      <td>31751900.0</td>\n",
       "      <td>0.0</td>\n",
       "      <td>1.0</td>\n",
       "      <td>115.337596</td>\n",
       "      <td>116.700551</td>\n",
       "      <td>115.031425</td>\n",
       "      <td>116.453639</td>\n",
       "      <td>31751900.0</td>\n",
       "    </tr>\n",
       "    <tr>\n",
       "      <th>2017-01-09</th>\n",
       "      <td>117.95</td>\n",
       "      <td>119.4300</td>\n",
       "      <td>117.94</td>\n",
       "      <td>118.99</td>\n",
       "      <td>33561948.0</td>\n",
       "      <td>0.0</td>\n",
       "      <td>1.0</td>\n",
       "      <td>116.493145</td>\n",
       "      <td>117.954865</td>\n",
       "      <td>116.483269</td>\n",
       "      <td>117.520300</td>\n",
       "      <td>33561948.0</td>\n",
       "    </tr>\n",
       "  </tbody>\n",
       "</table>\n",
       "</div>"
      ],
      "text/plain": [
       "              Open      High     Low   Close      Volume  Ex-Dividend  \\\n",
       "Date                                                                    \n",
       "2017-01-03  115.80  116.3300  114.76  116.15  28781865.0          0.0   \n",
       "2017-01-04  115.85  116.5100  115.75  116.02  21118116.0          0.0   \n",
       "2017-01-05  115.92  116.8642  115.81  116.61  22193587.0          0.0   \n",
       "2017-01-06  116.78  118.1600  116.47  117.91  31751900.0          0.0   \n",
       "2017-01-09  117.95  119.4300  117.94  118.99  33561948.0          0.0   \n",
       "\n",
       "            Split Ratio   Adj. Open   Adj. High    Adj. Low  Adj. Close  \\\n",
       "Date                                                                      \n",
       "2017-01-03          1.0  114.369701  114.893155  113.342546  114.715378   \n",
       "2017-01-04          1.0  114.419083  115.070931  114.320318  114.586983   \n",
       "2017-01-05          1.0  114.488219  115.420756  114.379577  115.169696   \n",
       "2017-01-06          1.0  115.337596  116.700551  115.031425  116.453639   \n",
       "2017-01-09          1.0  116.493145  117.954865  116.483269  117.520300   \n",
       "\n",
       "            Adj. Volume  \n",
       "Date                     \n",
       "2017-01-03   28781865.0  \n",
       "2017-01-04   21118116.0  \n",
       "2017-01-05   22193587.0  \n",
       "2017-01-06   31751900.0  \n",
       "2017-01-09   33561948.0  "
      ]
     },
     "execution_count": 65,
     "metadata": {},
     "output_type": "execute_result"
    }
   ],
   "source": [
    "df.head()"
   ]
  },
  {
   "cell_type": "code",
   "execution_count": 66,
   "metadata": {},
   "outputs": [
    {
     "data": {
      "text/plain": [
       "('\\n<script type=\"text/javascript\">\\n  (function() {\\n    var fn = function() {\\n      Bokeh.safely(function() {\\n        (function(root) {\\n          function embed_document(root) {\\n            \\n          var docs_json = \\'{\"50ac2572-e792-4059-bea2-4a66e87ed3d2\":{\"roots\":{\"references\":[{\"attributes\":{\"active_drag\":\"auto\",\"active_inspect\":\"auto\",\"active_multi\":null,\"active_scroll\":\"auto\",\"active_tap\":\"auto\",\"tools\":[{\"id\":\"2782\",\"type\":\"PanTool\"},{\"id\":\"2783\",\"type\":\"WheelZoomTool\"},{\"id\":\"2784\",\"type\":\"BoxZoomTool\"},{\"id\":\"2785\",\"type\":\"SaveTool\"},{\"id\":\"2786\",\"type\":\"ResetTool\"},{\"id\":\"2787\",\"type\":\"HelpTool\"}]},\"id\":\"2788\",\"type\":\"Toolbar\"},{\"attributes\":{\"line_color\":\"#fc9003\",\"x\":{\"field\":\"x\"},\"y\":{\"field\":\"y\"}},\"id\":\"2798\",\"type\":\"Line\"},{\"attributes\":{\"callback\":null,\"data\":{\"x\":{\"__ndarray__\":\"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\",\"dtype\":\"float64\",\"shape\":[249]},\"y\":{\"__ndarray__\":\"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\",\"dtype\":\"float64\",\"shape\":[249]}},\"selected\":{\"id\":\"2929\",\"type\":\"Selection\"},\"selection_policy\":{\"id\":\"2930\",\"type\":\"UnionRenderers\"}},\"id\":\"2876\",\"type\":\"ColumnDataSource\"},{\"attributes\":{\"callback\":null},\"id\":\"2764\",\"type\":\"DataRange1d\"},{\"attributes\":{\"months\":[0,1,2,3,4,5,6,7,8,9,10,11]},\"id\":\"2814\",\"type\":\"MonthsTicker\"},{\"attributes\":{\"months\":[0,2,4,6,8,10]},\"id\":\"2815\",\"type\":\"MonthsTicker\"},{\"attributes\":{\"data_source\":{\"id\":\"2876\",\"type\":\"ColumnDataSource\"},\"glyph\":{\"id\":\"2877\",\"type\":\"Line\"},\"hover_glyph\":null,\"muted_glyph\":null,\"nonselection_glyph\":{\"id\":\"2878\",\"type\":\"Line\"},\"selection_glyph\":null,\"view\":{\"id\":\"2880\",\"type\":\"CDSView\"}},\"id\":\"2879\",\"type\":\"GlyphRenderer\"},{\"attributes\":{\"axis_label\":\"Date\",\"formatter\":{\"id\":\"2805\",\"type\":\"DatetimeTickFormatter\"},\"plot\":{\"id\":\"2762\",\"subtype\":\"Figure\",\"type\":\"Plot\"},\"ticker\":{\"id\":\"2773\",\"type\":\"DatetimeTicker\"}},\"id\":\"2772\",\"type\":\"DatetimeAxis\"},{\"attributes\":{\"data_source\":{\"id\":\"2848\",\"type\":\"ColumnDataSource\"},\"glyph\":{\"id\":\"2849\",\"type\":\"Line\"},\"hover_glyph\":null,\"muted_glyph\":null,\"nonselection_glyph\":{\"id\":\"2850\",\"type\":\"Line\"},\"selection_glyph\":null,\"view\":{\"id\":\"2852\",\"type\":\"CDSView\"}},\"id\":\"2851\",\"type\":\"GlyphRenderer\"},{\"attributes\":{\"num_minor_ticks\":5,\"tickers\":[{\"id\":\"2807\",\"type\":\"AdaptiveTicker\"},{\"id\":\"2808\",\"type\":\"AdaptiveTicker\"},{\"id\":\"2809\",\"type\":\"AdaptiveTicker\"},{\"id\":\"2810\",\"type\":\"DaysTicker\"},{\"id\":\"2811\",\"type\":\"DaysTicker\"},{\"id\":\"2812\",\"type\":\"DaysTicker\"},{\"id\":\"2813\",\"type\":\"DaysTicker\"},{\"id\":\"2814\",\"type\":\"MonthsTicker\"},{\"id\":\"2815\",\"type\":\"MonthsTicker\"},{\"id\":\"2816\",\"type\":\"MonthsTicker\"},{\"id\":\"2817\",\"type\":\"MonthsTicker\"},{\"id\":\"2818\",\"type\":\"YearsTicker\"}]},\"id\":\"2773\",\"type\":\"DatetimeTicker\"},{\"attributes\":{\"line_alpha\":0.1,\"line_color\":\"#1f77b4\",\"x\":{\"field\":\"x\"},\"y\":{\"field\":\"y\"}},\"id\":\"2824\",\"type\":\"Line\"},{\"attributes\":{\"line_alpha\":0.1,\"line_color\":\"#1f77b4\",\"x\":{\"field\":\"x\"},\"y\":{\"field\":\"y\"}},\"id\":\"2878\",\"type\":\"Line\"},{\"attributes\":{},\"id\":\"2770\",\"type\":\"LinearScale\"},{\"attributes\":{\"label\":{\"value\":\"AAPL: Close\"},\"renderers\":[{\"id\":\"2825\",\"type\":\"GlyphRenderer\"}]},\"id\":\"2847\",\"type\":\"LegendItem\"},{\"attributes\":{\"line_color\":\"#0318fc\",\"x\":{\"field\":\"x\"},\"y\":{\"field\":\"y\"}},\"id\":\"2877\",\"type\":\"Line\"},{\"attributes\":{\"base\":60,\"mantissas\":[1,2,5,10,15,20,30],\"max_interval\":1800000.0,\"min_interval\":1000.0,\"num_minor_ticks\":0},\"id\":\"2808\",\"type\":\"AdaptiveTicker\"},{\"attributes\":{\"callback\":null},\"id\":\"2766\",\"type\":\"DataRange1d\"},{\"attributes\":{\"source\":{\"id\":\"2848\",\"type\":\"ColumnDataSource\"}},\"id\":\"2852\",\"type\":\"CDSView\"},{\"attributes\":{\"grid_line_alpha\":{\"value\":2.0},\"plot\":{\"id\":\"2762\",\"subtype\":\"Figure\",\"type\":\"Plot\"},\"ticker\":{\"id\":\"2773\",\"type\":\"DatetimeTicker\"}},\"id\":\"2776\",\"type\":\"Grid\"},{\"attributes\":{\"plot\":null,\"text\":\"Quandl WIKI Stock Data - 2017\"},\"id\":\"2761\",\"type\":\"Title\"},{\"attributes\":{},\"id\":\"2768\",\"type\":\"LinearScale\"},{\"attributes\":{\"axis_label\":\"Price (USD)\",\"formatter\":{\"id\":\"2803\",\"type\":\"BasicTickFormatter\"},\"plot\":{\"id\":\"2762\",\"subtype\":\"Figure\",\"type\":\"Plot\"},\"ticker\":{\"id\":\"2778\",\"type\":\"BasicTicker\"}},\"id\":\"2777\",\"type\":\"LinearAxis\"},{\"attributes\":{\"mantissas\":[1,2,5],\"max_interval\":500.0,\"num_minor_ticks\":0},\"id\":\"2807\",\"type\":\"AdaptiveTicker\"},{\"attributes\":{\"source\":{\"id\":\"2822\",\"type\":\"ColumnDataSource\"}},\"id\":\"2826\",\"type\":\"CDSView\"},{\"attributes\":{\"days\":[1,4,7,10,13,16,19,22,25,28]},\"id\":\"2811\",\"type\":\"DaysTicker\"},{\"attributes\":{\"line_color\":\"#fc0303\",\"x\":{\"field\":\"x\"},\"y\":{\"field\":\"y\"}},\"id\":\"2823\",\"type\":\"Line\"},{\"attributes\":{\"days\":[1,2,3,4,5,6,7,8,9,10,11,12,13,14,15,16,17,18,19,20,21,22,23,24,25,26,27,28,29,30,31]},\"id\":\"2810\",\"type\":\"DaysTicker\"},{\"attributes\":{\"label\":{\"value\":\"AAPL: Adjusted Open\"},\"renderers\":[{\"id\":\"2851\",\"type\":\"GlyphRenderer\"}]},\"id\":\"2875\",\"type\":\"LegendItem\"},{\"attributes\":{\"line_color\":\"#03fc3d\",\"x\":{\"field\":\"x\"},\"y\":{\"field\":\"y\"}},\"id\":\"2849\",\"type\":\"Line\"},{\"attributes\":{\"data_source\":{\"id\":\"2822\",\"type\":\"ColumnDataSource\"},\"glyph\":{\"id\":\"2823\",\"type\":\"Line\"},\"hover_glyph\":null,\"muted_glyph\":null,\"nonselection_glyph\":{\"id\":\"2824\",\"type\":\"Line\"},\"selection_glyph\":null,\"view\":{\"id\":\"2826\",\"type\":\"CDSView\"}},\"id\":\"2825\",\"type\":\"GlyphRenderer\"},{\"attributes\":{\"base\":24,\"mantissas\":[1,2,4,6,8,12],\"max_interval\":43200000.0,\"min_interval\":3600000.0,\"num_minor_ticks\":0},\"id\":\"2809\",\"type\":\"AdaptiveTicker\"},{\"attributes\":{},\"id\":\"2929\",\"type\":\"Selection\"},{\"attributes\":{},\"id\":\"2803\",\"type\":\"BasicTickFormatter\"},{\"attributes\":{\"label\":{\"value\":\"AAPL: Open\"},\"renderers\":[{\"id\":\"2800\",\"type\":\"GlyphRenderer\"}]},\"id\":\"2821\",\"type\":\"LegendItem\"},{\"attributes\":{\"source\":{\"id\":\"2797\",\"type\":\"ColumnDataSource\"}},\"id\":\"2801\",\"type\":\"CDSView\"},{\"attributes\":{},\"id\":\"2778\",\"type\":\"BasicTicker\"},{\"attributes\":{},\"id\":\"2805\",\"type\":\"DatetimeTickFormatter\"},{\"attributes\":{},\"id\":\"2873\",\"type\":\"UnionRenderers\"},{\"attributes\":{\"overlay\":{\"id\":\"2790\",\"type\":\"BoxAnnotation\"}},\"id\":\"2784\",\"type\":\"BoxZoomTool\"},{\"attributes\":{\"line_alpha\":0.1,\"line_color\":\"#1f77b4\",\"x\":{\"field\":\"x\"},\"y\":{\"field\":\"y\"}},\"id\":\"2850\",\"type\":\"Line\"},{\"attributes\":{\"callback\":null,\"data\":{\"x\":{\"__ndarray__\":\"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\",\"dtype\":\"float64\",\"shape\":[249]},\"y\":{\"__ndarray__\":\"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\",\"dtype\":\"float64\",\"shape\":[249]}},\"selected\":{\"id\":\"2872\",\"type\":\"Selection\"},\"selection_policy\":{\"id\":\"2873\",\"type\":\"UnionRenderers\"}},\"id\":\"2822\",\"type\":\"ColumnDataSource\"},{\"attributes\":{},\"id\":\"2818\",\"type\":\"YearsTicker\"},{\"attributes\":{},\"id\":\"2782\",\"type\":\"PanTool\"},{\"attributes\":{\"below\":[{\"id\":\"2772\",\"type\":\"DatetimeAxis\"}],\"left\":[{\"id\":\"2777\",\"type\":\"LinearAxis\"}],\"renderers\":[{\"id\":\"2772\",\"type\":\"DatetimeAxis\"},{\"id\":\"2776\",\"type\":\"Grid\"},{\"id\":\"2777\",\"type\":\"LinearAxis\"},{\"id\":\"2781\",\"type\":\"Grid\"},{\"id\":\"2790\",\"type\":\"BoxAnnotation\"},{\"id\":\"2820\",\"type\":\"Legend\"},{\"id\":\"2800\",\"type\":\"GlyphRenderer\"},{\"id\":\"2825\",\"type\":\"GlyphRenderer\"},{\"id\":\"2851\",\"type\":\"GlyphRenderer\"},{\"id\":\"2879\",\"type\":\"GlyphRenderer\"}],\"title\":{\"id\":\"2761\",\"type\":\"Title\"},\"toolbar\":{\"id\":\"2788\",\"type\":\"Toolbar\"},\"x_range\":{\"id\":\"2764\",\"type\":\"DataRange1d\"},\"x_scale\":{\"id\":\"2768\",\"type\":\"LinearScale\"},\"y_range\":{\"id\":\"2766\",\"type\":\"DataRange1d\"},\"y_scale\":{\"id\":\"2770\",\"type\":\"LinearScale\"}},\"id\":\"2762\",\"subtype\":\"Figure\",\"type\":\"Plot\"},{\"attributes\":{\"bottom_units\":\"screen\",\"fill_alpha\":{\"value\":0.5},\"fill_color\":{\"value\":\"lightgrey\"},\"left_units\":\"screen\",\"level\":\"overlay\",\"line_alpha\":{\"value\":1.0},\"line_color\":{\"value\":\"black\"},\"line_dash\":[4,4],\"line_width\":{\"value\":2},\"plot\":null,\"render_mode\":\"css\",\"right_units\":\"screen\",\"top_units\":\"screen\"},\"id\":\"2790\",\"type\":\"BoxAnnotation\"},{\"attributes\":{\"days\":[1,15]},\"id\":\"2813\",\"type\":\"DaysTicker\"},{\"attributes\":{\"months\":[0,6]},\"id\":\"2817\",\"type\":\"MonthsTicker\"},{\"attributes\":{\"callback\":null,\"data\":{\"x\":{\"__ndarray__\":\"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\",\"dtype\":\"float64\",\"shape\":[249]},\"y\":{\"__ndarray__\":\"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\",\"dtype\":\"float64\",\"shape\":[249]}},\"selected\":{\"id\":\"2902\",\"type\":\"Selection\"},\"selection_policy\":{\"id\":\"2903\",\"type\":\"UnionRenderers\"}},\"id\":\"2848\",\"type\":\"ColumnDataSource\"},{\"attributes\":{\"data_source\":{\"id\":\"2797\",\"type\":\"ColumnDataSource\"},\"glyph\":{\"id\":\"2798\",\"type\":\"Line\"},\"hover_glyph\":null,\"muted_glyph\":null,\"nonselection_glyph\":{\"id\":\"2799\",\"type\":\"Line\"},\"selection_glyph\":null,\"view\":{\"id\":\"2801\",\"type\":\"CDSView\"}},\"id\":\"2800\",\"type\":\"GlyphRenderer\"},{\"attributes\":{\"callback\":null,\"data\":{\"x\":{\"__ndarray__\":\"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\",\"dtype\":\"float64\",\"shape\":[249]},\"y\":{\"__ndarray__\":\"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\",\"dtype\":\"float64\",\"shape\":[249]}},\"selected\":{\"id\":\"2844\",\"type\":\"Selection\"},\"selection_policy\":{\"id\":\"2845\",\"type\":\"UnionRenderers\"}},\"id\":\"2797\",\"type\":\"ColumnDataSource\"},{\"attributes\":{},\"id\":\"2845\",\"type\":\"UnionRenderers\"},{\"attributes\":{},\"id\":\"2903\",\"type\":\"UnionRenderers\"},{\"attributes\":{\"label\":{\"value\":\"AAPL: Adjusted Close\"},\"renderers\":[{\"id\":\"2879\",\"type\":\"GlyphRenderer\"}]},\"id\":\"2905\",\"type\":\"LegendItem\"},{\"attributes\":{\"days\":[1,8,15,22]},\"id\":\"2812\",\"type\":\"DaysTicker\"},{\"attributes\":{\"line_alpha\":0.1,\"line_color\":\"#1f77b4\",\"x\":{\"field\":\"x\"},\"y\":{\"field\":\"y\"}},\"id\":\"2799\",\"type\":\"Line\"},{\"attributes\":{},\"id\":\"2872\",\"type\":\"Selection\"},{\"attributes\":{},\"id\":\"2844\",\"type\":\"Selection\"},{\"attributes\":{},\"id\":\"2787\",\"type\":\"HelpTool\"},{\"attributes\":{\"items\":[{\"id\":\"2821\",\"type\":\"LegendItem\"},{\"id\":\"2847\",\"type\":\"LegendItem\"},{\"id\":\"2875\",\"type\":\"LegendItem\"},{\"id\":\"2905\",\"type\":\"LegendItem\"}],\"plot\":{\"id\":\"2762\",\"subtype\":\"Figure\",\"type\":\"Plot\"}},\"id\":\"2820\",\"type\":\"Legend\"},{\"attributes\":{},\"id\":\"2930\",\"type\":\"UnionRenderers\"},{\"attributes\":{\"dimension\":1,\"grid_line_alpha\":{\"value\":2.0},\"plot\":{\"id\":\"2762\",\"subtype\":\"Figure\",\"type\":\"Plot\"},\"ticker\":{\"id\":\"2778\",\"type\":\"BasicTicker\"}},\"id\":\"2781\",\"type\":\"Grid\"},{\"attributes\":{},\"id\":\"2902\",\"type\":\"Selection\"},{\"attributes\":{},\"id\":\"2783\",\"type\":\"WheelZoomTool\"},{\"attributes\":{\"source\":{\"id\":\"2876\",\"type\":\"ColumnDataSource\"}},\"id\":\"2880\",\"type\":\"CDSView\"},{\"attributes\":{},\"id\":\"2785\",\"type\":\"SaveTool\"},{\"attributes\":{\"months\":[0,4,8]},\"id\":\"2816\",\"type\":\"MonthsTicker\"},{\"attributes\":{},\"id\":\"2786\",\"type\":\"ResetTool\"}],\"root_ids\":[\"2762\"]},\"title\":\"Bokeh Application\",\"version\":\"1.0.4\"}}\\';\\n          var render_items = [{\"docid\":\"50ac2572-e792-4059-bea2-4a66e87ed3d2\",\"roots\":{\"2762\":\"83f59c56-57c1-4eab-a1a6-7a51531b5e42\"}}];\\n          root.Bokeh.embed.embed_items(docs_json, render_items);\\n        \\n          }\\n          if (root.Bokeh !== undefined) {\\n            embed_document(root);\\n          } else {\\n            var attempts = 0;\\n            var timer = setInterval(function(root) {\\n              if (root.Bokeh !== undefined) {\\n                embed_document(root);\\n                clearInterval(timer);\\n              }\\n              attempts++;\\n              if (attempts > 100) {\\n                console.log(\"Bokeh: ERROR: Unable to run BokehJS code because BokehJS library is missing\");\\n                clearInterval(timer);\\n              }\\n            }, 10, root)\\n          }\\n        })(window);\\n      });\\n    };\\n    if (document.readyState != \"loading\") fn();\\n    else document.addEventListener(\"DOMContentLoaded\", fn);\\n  })();\\n</script>',\n",
       " '\\n<div class=\"bk-root\" id=\"83f59c56-57c1-4eab-a1a6-7a51531b5e42\" data-root-id=\"2762\"></div>')"
      ]
     },
     "execution_count": 66,
     "metadata": {},
     "output_type": "execute_result"
    }
   ],
   "source": [
    "makePlot(df, 'AAPL', 2017)"
   ]
  },
  {
   "cell_type": "code",
   "execution_count": null,
   "metadata": {},
   "outputs": [],
   "source": []
  }
 ],
 "metadata": {
  "kernelspec": {
   "display_name": "Python 3",
   "language": "python",
   "name": "python3"
  },
  "language_info": {
   "codemirror_mode": {
    "name": "ipython",
    "version": 3
   },
   "file_extension": ".py",
   "mimetype": "text/x-python",
   "name": "python",
   "nbconvert_exporter": "python",
   "pygments_lexer": "ipython3",
   "version": "3.7.3"
  }
 },
 "nbformat": 4,
 "nbformat_minor": 2
}
